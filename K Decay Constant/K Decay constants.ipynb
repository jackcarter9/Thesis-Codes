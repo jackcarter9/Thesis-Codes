{
 "cells": [
  {
   "cell_type": "code",
   "execution_count": 34,
   "metadata": {},
   "outputs": [],
   "source": [
    "import numpy as np \n",
    "import seaborn as sns \n",
    "import matplotlib.pyplot as plt\n"
   ]
  },
  {
   "cell_type": "code",
   "execution_count": 35,
   "metadata": {},
   "outputs": [],
   "source": [
    "font = {\"family\": \"Arial\", \n",
    "       \"size\": 15,\n",
    "       \"weight\": \"normal\"}\n",
    "\n",
    "plt.rc(\"font\", **font)"
   ]
  },
  {
   "cell_type": "code",
   "execution_count": 36,
   "metadata": {},
   "outputs": [],
   "source": [
    "sns.set_style(\"ticks\")"
   ]
  },
  {
   "cell_type": "code",
   "execution_count": 37,
   "metadata": {},
   "outputs": [],
   "source": [
    "min_ = 5.463e-10\n",
    "min_err = 0.107e-10\n",
    "\n",
    "s_j = 4.962e-10 + 0.581e-10\n",
    "s_j_err = 0.02e-10*2\n",
    "\n",
    "renne  = 5.5492e-10\n",
    "renne_err = (0.00093e-10)*2\n",
    "\n",
    "jc = 5.475e-10\n",
    "jc_err = 0.107e-10"
   ]
  },
  {
   "cell_type": "code",
   "execution_count": 38,
   "metadata": {},
   "outputs": [],
   "source": [
    "rel1 = (min_err/min_)*100\n",
    "\n",
    "rel2 = (s_j_err/s_j)*100\n",
    "\n",
    "rel3 = (renne_err/renne)*100"
   ]
  },
  {
   "cell_type": "code",
   "execution_count": 39,
   "metadata": {},
   "outputs": [
    {
     "name": "stdout",
     "output_type": "stream",
     "text": [
      "1.9586307889438037 0.7216308858019123 0.03351834498666474\n"
     ]
    }
   ],
   "source": [
    "print(rel1, rel2, rel3)"
   ]
  },
  {
   "cell_type": "code",
   "execution_count": 40,
   "metadata": {},
   "outputs": [],
   "source": [
    "dc_u238 = np.log(2)/4.4683e9\n",
    "\n",
    "dc_rel_err = (0.0024/4.4683) *100"
   ]
  },
  {
   "cell_type": "code",
   "execution_count": 41,
   "metadata": {},
   "outputs": [
    {
     "data": {
      "text/plain": [
       "0.053711702437168496"
      ]
     },
     "execution_count": 41,
     "metadata": {},
     "output_type": "execute_result"
    }
   ],
   "source": [
    "dc_rel_err"
   ]
  },
  {
   "cell_type": "code",
   "execution_count": 33,
   "metadata": {},
   "outputs": [
    {
     "data": {
      "image/png": "[encoded data removed]",
      "text/plain": [
       "<Figure size 288x288 with 1 Axes>"
      ]
     },
     "metadata": {},
     "output_type": "display_data"
    }
   ],
   "source": [
    "fig,ax = plt.subplots(figsize = (4,4))\n",
    "\n",
    "ax.errorbar(1, y = min_, yerr = min_err, fmt = 'o', \n",
    "            markeredgecolor = 'k', \n",
    "            markersize = 9, \n",
    "           markerfacecolor = 'steelblue', \n",
    "           color= 'steelblue')\n",
    "\n",
    "ax.errorbar(2, y = s_j, yerr = s_j_err, fmt = 'o', \n",
    "            markeredgecolor = 'k', \n",
    "            markersize = 9, \n",
    "           markerfacecolor = 'seagreen', \n",
    "           color = 'seagreen')\n",
    "\n",
    "\n",
    "ax.errorbar(3, y = renne, yerr = renne_err, fmt = 'o', \n",
    "            markeredgecolor = 'k', \n",
    "            markersize = 9, \n",
    "           markerfacecolor = 'slategrey', \n",
    "           color = 'slategrey')\n",
    "\n",
    "\n",
    "# Hide the right and top spines\n",
    "ax.spines['right'].set_visible(False)\n",
    "ax.spines['top'].set_visible(False)\n",
    "\n",
    "\n",
    "ax.set_ylim(5.3e-10, 5.6e-10)\n",
    "ax.set_ylabel('Decay Constant ($\\lambda_{T}$)')\n",
    "\n",
    "list_ = ['Min et al. (2000)', 'Steiger and Jäger, (1977)', \n",
    "       'Renne et al. (2010)']\n",
    "\n",
    "ax.set_xticks(np.arange(3) + 1)\n",
    "ax.set_xticklabels(list_, rotation = 90, fontsize = 14)\n",
    "ax.set_xlim(0.2, 3.8)\n",
    "plt.savefig('decay_constants_presentation.pdf')"
   ]
  },
  {
   "cell_type": "code",
   "execution_count": null,
   "metadata": {},
   "outputs": [],
   "source": [
    "fig,ax = plt.subplots(figsize = (4,4))\n",
    "\n",
    "ax.errorbar(1, y = min_, yerr = min_err, fmt = 'o', \n",
    "            markeredgecolor = 'k', \n",
    "            markersize = 9, \n",
    "           markerfacecolor = 'steelblue', \n",
    "           color= 'steelblue')\n",
    "\n",
    "ax.errorbar(2, y = s_j, yerr = s_j_err, fmt = 'o', \n",
    "            markeredgecolor = 'k', \n",
    "            markersize = 9, \n",
    "           markerfacecolor = 'seagreen', \n",
    "           color = 'seagreen')\n",
    "\n",
    "\n",
    "ax.errorbar(3, y = renne, yerr = renne_err, fmt = 'o', \n",
    "            markeredgecolor = 'k', \n",
    "            markersize = 9, \n",
    "           markerfacecolor = 'slategrey', \n",
    "           color = 'slategrey')\n",
    "\n",
    "# Hide the right and top spines\n",
    "ax.spines['right'].set_visible(False)\n",
    "ax.spines['top'].set_visible(False)\n",
    "\n",
    "\n",
    "ax.set_ylim(5.3e-10, 5.6e-10)\n",
    "ax.set_ylabel('Decay Constant ($\\lambda_{T}$)')\n",
    "\n",
    "=\n",
    "ax.set_xlim(0.2, 3.8)"
   ]
  }
 ],
 "metadata": {
  "kernelspec": {
   "display_name": "Python 3",
   "language": "python",
   "name": "python3"
  },
  "language_info": {
   "codemirror_mode": {
    "name": "ipython",
    "version": 3
   },
   "file_extension": ".py",
   "mimetype": "text/x-python",
   "name": "python",
   "nbconvert_exporter": "python",
   "pygments_lexer": "ipython3",
   "version": "3.6.6"
  }
 },
 "nbformat": 4,
 "nbformat_minor": 2
}
