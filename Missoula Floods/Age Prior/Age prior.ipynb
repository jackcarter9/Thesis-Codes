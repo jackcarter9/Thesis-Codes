{
 "cells": [
  {
   "cell_type": "code",
   "execution_count": 1,
   "metadata": {},
   "outputs": [],
   "source": [
    "import numpy as np \n",
    "import seaborn as sns \n",
    "import matplotlib.pyplot as plt\n",
    "\n",
    "\n",
    "font = {\"family\": \"Arial\", \n",
    "       \"weight\": \"normal\", \n",
    "       \"size\": 12}\n",
    "\n",
    "plt.rc(\"font\", **font)\n",
    "sns.set_style('ticks')\n"
   ]
  },
  {
   "cell_type": "code",
   "execution_count": 2,
   "metadata": {},
   "outputs": [],
   "source": [
    "font = {\"family\": \"Arial\", \n",
    "       \"weight\": \"normal\", \n",
    "       \"size\": 12}\n",
    "\n",
    "plt.rc(\"font\", **font)\n",
    "sns.set_style('ticks')"
   ]
  },
  {
   "cell_type": "code",
   "execution_count": 3,
   "metadata": {},
   "outputs": [],
   "source": [
    "from scipy.stats import gaussian_kde\n",
    "def kde_plot(x, grid, bandwidth = 20):\n",
    "    y = gaussian_kde(x, bw_method = bandwidth / x.std(ddof =1))\n",
    "    return y.evaluate(grid)\n",
    "\n",
    "\n",
    "grid = np.linspace(0, 4600, 500)"
   ]
  },
  {
   "cell_type": "code",
   "execution_count": 4,
   "metadata": {},
   "outputs": [],
   "source": [
    "y1 = np.random.uniform(0, 2500, 10000)\n",
    "y2 = np.random.uniform(15, 17, 10000)"
   ]
  },
  {
   "cell_type": "code",
   "execution_count": 5,
   "metadata": {},
   "outputs": [],
   "source": [
    "qqq = np.concatenate((y1, y2), axis = 0)"
   ]
  },
  {
   "cell_type": "code",
   "execution_count": 7,
   "metadata": {},
   "outputs": [],
   "source": [
    "font = {\"family\": \"Arial\", \n",
    "       \"weight\": \"normal\", \n",
    "       \"size\": 14}\n",
    "\n",
    "plt.rc(\"font\", **font)\n",
    "sns.set_style('ticks')"
   ]
  },
  {
   "cell_type": "code",
   "execution_count": 18,
   "metadata": {},
   "outputs": [],
   "source": [
    "qqq2 = kde_plot(qqq, grid, bandwidth = 1)"
   ]
  },
  {
   "cell_type": "code",
   "execution_count": 27,
   "metadata": {},
   "outputs": [
    {
     "data": {
      "image/png": "[encoded data removed]",
      "text/plain": [
       "<Figure size 288x288 with 1 Axes>"
      ]
     },
     "metadata": {},
     "output_type": "display_data"
    }
   ],
   "source": [
    "plt.figure(figsize = (4,4))\n",
    "plt.fill_between(grid, qqq2/qqq2.sum(), \n",
    "                  label = '18-IAF-10S-EPH (Silt)', \n",
    "                  facecolor = 'orange',\n",
    "               alpha = 0.6, \n",
    "                 edgecolor= 'None')\n",
    "\n",
    "\n",
    "#plt.ylim(0, 0.1)\n",
    "plt.xlim(0, 3000)\n",
    "plt.xscale('symlog')\n",
    "plt.xlabel('Age (Ma)')\n",
    "plt.ylabel('Normalised probability density ')\n",
    "plt.tight_layout()\n",
    "plt.savefig('missoula_age_prior1.pdf')\n",
    "\n"
   ]
  },
  {
   "cell_type": "code",
   "execution_count": null,
   "metadata": {},
   "outputs": [],
   "source": [
    "\n"
   ]
  }
 ],
 "metadata": {
  "kernelspec": {
   "display_name": "Python 3",
   "language": "python",
   "name": "python3"
  },
  "language_info": {
   "codemirror_mode": {
    "name": "ipython",
    "version": 3
   },
   "file_extension": ".py",
   "mimetype": "text/x-python",
   "name": "python",
   "nbconvert_exporter": "python",
   "pygments_lexer": "ipython3",
   "version": "3.6.6"
  }
 },
 "nbformat": 4,
 "nbformat_minor": 2
}
