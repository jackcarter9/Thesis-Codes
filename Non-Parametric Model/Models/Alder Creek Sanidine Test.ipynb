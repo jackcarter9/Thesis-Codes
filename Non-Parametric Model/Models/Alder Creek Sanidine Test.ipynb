{
 "cells": [
  {
   "cell_type": "code",
   "execution_count": 1,
   "metadata": {},
   "outputs": [
    {
     "data": {
      "application/javascript": [
       "IPython.notebook.set_autosave_interval(10000000)"
      ]
     },
     "metadata": {},
     "output_type": "display_data"
    },
    {
     "name": "stdout",
     "output_type": "stream",
     "text": [
      "Autosaving every 10000 seconds\n"
     ]
    }
   ],
   "source": [
    "%autosave 10000"
   ]
  },
  {
   "cell_type": "code",
   "execution_count": 2,
   "metadata": {},
   "outputs": [
    {
     "name": "stdout",
     "output_type": "stream",
     "text": [
      "Couldn't import dot_parser, loading of dot files will not be possible.\n"
     ]
    }
   ],
   "source": [
    "import numpy as np; import matplotlib.pyplot as plt\n",
    "import pymc3 as pm; from scipy import stats; import pandas as pd ;import os \n",
    "import theano; import seaborn as sns; from theano import shared, tensor as tt\n",
    "# Age, Age Error, 40Ar, 39Ar, 37Ar, 36Ar, Temperature\n"
   ]
  },
  {
   "cell_type": "code",
   "execution_count": 3,
   "metadata": {},
   "outputs": [],
   "source": [
    "cwd = os.chdir(\"/Users/jackcarter/Documents/Data_Mixtures\")\n",
    "df = pd.read_csv('aldercs_diff.csv')"
   ]
  },
  {
   "cell_type": "code",
   "execution_count": 4,
   "metadata": {},
   "outputs": [],
   "source": [
    "from scipy import stats\n",
    "from pymc3.distributions import draw_values\n",
    "from pymc3.distributions import generate_samples\n",
    "from pymc3.theanof import floatX\n",
    "from pymc3.distributions.dist_math import bound\n",
    "from pymc3.distributions import (Continuous, draw_values, generate_samples)\n",
    "\n",
    "def assert_negative_support(var, label, distname, value=-1e-6):\n",
    "    # Checks for evidence of positive support for a variable\n",
    "    if var is None:\n",
    "        return\n",
    "    try:\n",
    "        # Transformed distribution\n",
    "        support = np.isfinite(var.transformed.distribution.dist\n",
    "                              .logp(value).tag.test_value)\n",
    "    except AttributeError:\n",
    "        try:\n",
    "            # Untransformed distribution\n",
    "            support = np.isfinite(var.distribution.logp(value).tag.test_value)\n",
    "        except AttributeError:\n",
    "            # Otherwise no direct evidence of non-positive support\n",
    "            support = False\n",
    "\n",
    "    if np.any(support):\n",
    "        msg = \"The variable specified for {0} has negative support for {1}, \".format(\n",
    "            label, distname)\n",
    "        msg += \"likely making it unsuitable for this parameter.\"\n",
    "        warnings.warn(msg)\n",
    "\n",
    "def get_tau_sigma(tau=None, sigma=None):\n",
    "    if tau is None:\n",
    "        if sigma is None:\n",
    "            sigma = 1.\n",
    "            tau = 1.\n",
    "        else:\n",
    "            tau = sigma**-2.\n",
    "    else:\n",
    "        if sigma is not None:\n",
    "            raise ValueError(\"Can't pass both tau and sigma\")\n",
    "        else:\n",
    "            sigma = tau**-.5\n",
    "    tau = 1. * tau\n",
    "    sigma = 1. * sigma\n",
    "    return floatX(tau), floatX(sigma)"
   ]
  },
  {
   "cell_type": "code",
   "execution_count": 5,
   "metadata": {},
   "outputs": [],
   "source": [
    "class weighted_Normal(pm.distributions.Continuous):\n",
    "\n",
    "    def __init__(self, mu=0, sigma=None, tau=None, sd=None, weight =None,**kwargs):\n",
    "        if sd is not None:\n",
    "            sigma = sd\n",
    "        tau, sigma = get_tau_sigma(tau=tau, sigma=sigma)\n",
    "        self.sigma = self.sd = tt.as_tensor_variable(sigma)\n",
    "        self.tau = tt.as_tensor_variable(tau)\n",
    "        self.weight = tt.as_tensor_variable(weight)\n",
    "\n",
    "        self.mean = self.median = self.mode = self.mu = mu = tt.as_tensor_variable(floatX(mu))\n",
    "        self.variance = 1. / self.tau\n",
    "\n",
    "        assert_negative_support(sigma, 'sigma', 'Normal')\n",
    "        assert_negative_support(tau, 'tau', 'Normal')\n",
    "\n",
    "        super().__init__(**kwargs)\n",
    "\n",
    "    def random(self, point=None, size=None):\n",
    "        \n",
    "        mu, tau, _ = draw_values([self.mu, self.tau, self.sigma],\n",
    "                                 point=point, size=size)\n",
    "        return generate_samples(stats.norm.rvs, loc=mu, scale=tau**-0.5,\n",
    "                                dist_shape=self.shape,\n",
    "                                size=size)\n",
    "\n",
    "    def logp(self, value):\n",
    "        \"\"\"\n",
    "        Sum of Squares\n",
    "        \n",
    "        \"\"\"\n",
    "        sigma = self.sigma\n",
    "        tau = self.tau\n",
    "        mu = self.mu\n",
    "        weight = self.weight\n",
    "        \n",
    "        logp =  - weight * tt.sqr(value - mu)/(2.0 * sigma * sigma)\n",
    "        return logp.sum()\n"
   ]
  },
  {
   "cell_type": "code",
   "execution_count": 6,
   "metadata": {},
   "outputs": [],
   "source": [
    "\"\"\"\n",
    "Age\n",
    "\n",
    "\"\"\"\n",
    "age = df['Ageacs'].values\n",
    "data = age\n",
    "age_err = df['ageacerr'].values\n",
    "age_m = age\n",
    "N = age.shape[0]\n",
    "age = data[data > 0]\n",
    "ar39 = df['ar39'].values\n",
    "age_data = df['Ageacs'].values"
   ]
  },
  {
   "cell_type": "code",
   "execution_count": 7,
   "metadata": {},
   "outputs": [],
   "source": [
    "da2 = df['Da2'].values\n",
    "da2_err = df['Da2_err'].values\n",
    "temp = df['Temp'].values\n",
    "time = np.ones(len(temp))*300\n",
    "tempk = temp + 273.15"
   ]
  },
  {
   "cell_type": "code",
   "execution_count": 8,
   "metadata": {},
   "outputs": [],
   "source": [
    "tplot = 1e4/(tempk)\n",
    "def cumrel(x): \n",
    "    y = np.cumsum(x)\n",
    "    z = y/y.max()\n",
    "    return z\n",
    "x_plot  = cumrel(ar39)"
   ]
  },
  {
   "cell_type": "code",
   "execution_count": 9,
   "metadata": {},
   "outputs": [
    {
     "data": {
      "image/png": "[encoded data removed]",
      "text/plain": [
       "<Figure size 648x360 with 3 Axes>"
      ]
     },
     "metadata": {},
     "output_type": "display_data"
    }
   ],
   "source": [
    "font = {'family' : 'Arial',\n",
    "        'weight' : 'normal',\n",
    "        'size'   : 15}\n",
    "\n",
    "plt.rc('font', **font)\n",
    "sns.set_style('ticks')\n",
    "\n",
    "fig,ax = plt.subplots(1,2, figsize = (9,5))\n",
    "\n",
    "\n",
    "ax[0].fill_between(x_plot, \n",
    "                  age - age_err, \n",
    "                  age + age_err, \n",
    "                  facecolor = 'steelblue', \n",
    "                  step = 'pre',\n",
    "                  lw = 0.5, \n",
    "                  edgecolor = 'k')\n",
    "\n",
    "ax[0].set_ylabel('Apparent Age (Ma)')\n",
    "ax[0].set_xlabel('Cumulative $^{39}$Ar\\nreleased');\n",
    "ax[0].set_xlim(0,1)\n",
    "\n",
    "for i in range(len(x_plot)): \n",
    "    ax[0].vlines(x_plot, age - age_err, \n",
    "              age + age_err, \n",
    "              color = 'k', \n",
    "                lw = 0.5)\n",
    "\n",
    "\n",
    "ax[1].plot(tplot, np.log(da2), 'o', \n",
    "          markerfacecolor = 'steelblue', \n",
    "          markeredgecolor = 'k', \n",
    "          markersize = 10)\n",
    "ax[1].set_xlabel('10$^{4}$/T (K$^{-1}$)')\n",
    "ax[1].set_ylabel('ln(D/$a^{2}$)')\n",
    "\n",
    "\n",
    "\n",
    "ax2 = ax[1].twiny()\n",
    "\n",
    "Tdc = np.array([650,  800, 1000, 1200])\n",
    "Tp = 10e3/(Tdc + 273.15)\n",
    "labels = list(['650', '800', '1000','1200'])\n",
    "ax2.plot(tplot, np.log(da2), alpha = 0)\n",
    "ax2.set_xlabel('Temperature ($^{o}$C)')\n",
    "ax[1].set_xlim(Tp.min() - 0.5, Tp.max()+ .5)\n",
    "ax2.set_xlim(Tp.min() - 0.5, Tp.max()+ .5)\n",
    "ax2.set_xticks(Tp)\n",
    "ax2.set_xticklabels(labels)\n",
    "\n",
    "ax[1].set_ylim(-16, -6)\n",
    "ax[0].set_ylim(0, 3)\n",
    "plt.tight_layout()\n",
    "text_str = '1.19 $\\pm$ 0.001 Ma (1$\\sigma$)'\n",
    "text_str2 = 'n = 22, MSWD = 0.66'\n",
    "\n",
    "ax[0].text(0.2, 2.1, text_str)\n",
    "ax[0].text(0.21, 1.9, text_str2)\n",
    "\n",
    "ax[0].hlines(1.7, 0, 1)\n",
    "ax[0].vlines(0, 1.6, 1.8)\n",
    "ax[0].vlines(1, 1.6, 1.8)\n",
    "\n",
    "s1 = 'A'\n",
    "s2= 'B'\n",
    "\n",
    "ax[0].text(0.92, 0.1, s1, \n",
    "          fontweight = 'bold',\n",
    "          fontsize = 18)\n",
    "\n",
    "ax[1].text(10.9, -15.67, s2, \n",
    "          fontweight = 'bold',\n",
    "          fontsize = 18)\n",
    "plt.savefig('/Users/jackcarter/Desktop/chp3_figs/aldercreek_test.pdf')"
   ]
  },
  {
   "cell_type": "code",
   "execution_count": 10,
   "metadata": {},
   "outputs": [],
   "source": [
    "\"\"\"\n",
    "Data for Model\n",
    "\"\"\"\n",
    "N = len(age) - 1\n",
    "from theano import shared, tensor as tt\n",
    "age_data = shared(age[:N])\n",
    "age_data_err = shared(age_err[:N])\n",
    "\n",
    "arr_data = shared(np.log(da2[:N]))\n",
    "arr_err_data = shared((da2_err[:N]/2)/da2[:N])\n",
    "tempk = tempk[:N]\n",
    "time = time[:N]"
   ]
  },
  {
   "cell_type": "code",
   "execution_count": 11,
   "metadata": {},
   "outputs": [],
   "source": [
    "def inc_mdd(ea, d0, a,phi,temp, t):\n",
    "    R = 8.314e-3\n",
    "    D0t = ((phi/a)**2)* d0 * np.exp(-ea/(R*temp))*t\n",
    "    q = (6./(np.pi**(3/2)))*np.sqrt((np.pi**2)*D0t)\n",
    "    aa1 = np.sqrt(np.pi) * a**2 * R * temp**2\n",
    "    bb1 = (phi/a)**2 * d0*np.exp(-ea/(R*temp))*t\n",
    "    dd1 = 3 * d0 * ea * t * phi**2\n",
    "    z1 = (dd1 * np.exp(-ea/(R*temp)))/(aa1 * np.sqrt(bb1))\n",
    "    aa2 = a**2 * R *temp**2\n",
    "    bb2 = (phi/a)**2 * d0*np.exp(-ea/(R*temp))*t\n",
    "    cc1 = 3 * d0 * ea * t * phi**2 * np.exp(-ea/(R*temp))\n",
    "    z2 = cc1/(np.sqrt(np.pi) * aa2 * np.sqrt(bb2)) - cc1/(aa2) \n",
    "    aa3 = a**2 * R * temp**2\n",
    "    bb3 = (phi/a)**2 * d0*np.exp(-ea/(R*temp))*t\n",
    "    cc2 = 6 * d0 * ea * t * phi**2\n",
    "    z3 = (cc2 * np.exp(-(np.pi**2 * bb3) - (ea/(R*temp)))/(aa3))\n",
    "    Q = tt.switch(q <= 0.9,\n",
    "                z2,\n",
    "                 z3)\n",
    "    T = tt.switch(q < 0.1, \n",
    "                  z1,\n",
    "                  Q)\n",
    "    return T"
   ]
  },
  {
   "cell_type": "code",
   "execution_count": 12,
   "metadata": {},
   "outputs": [],
   "source": [
    "\"\"\"\n",
    "Stick Breaking \n",
    "\"\"\"\n",
    "import pymc3.distributions.transforms as tr\n",
    "from theano import tensor as tt\n",
    "def stick_break(beta): \n",
    "    pr = tt.concatenate([[1], \n",
    "                         tt.extra_ops.cumprod(1 - beta)[:-1]])\n",
    "    return beta * pr"
   ]
  },
  {
   "cell_type": "code",
   "execution_count": 13,
   "metadata": {},
   "outputs": [],
   "source": [
    "\"\"\"\n",
    "Test Models\n",
    "\"\"\"\n",
    "x_lin = 10000/tempk[0:N-1]\n",
    "y_lin = np.log(da2[0:N-1])\n",
    "y_lin_err = da2_err[0:N-1]/da2[0:N-1]\n",
    "A = np.hstack(((np.ones(len(y_lin)).reshape(-1, 1), x_lin.reshape(-1,1))))\n",
    "C = np.diag(y_lin_err)\n",
    "C_inv = np.linalg.inv(C)\n",
    "cov = np.linalg.inv(np.dot(A.T, np.dot(C_inv,A)))\n",
    "X1 = np.dot(A.T, np.dot(C_inv, y_lin))\n",
    "X = np.dot(cov, X1)\n",
    "c, m = X\n",
    "arr_test_model = m*x_lin + c\n",
    "\n",
    "w_m_age = np.average(age, weights = age_err)\n",
    "age_test_model = w_m_age*np.ones(len(data))"
   ]
  },
  {
   "cell_type": "code",
   "execution_count": 21,
   "metadata": {},
   "outputs": [
    {
     "name": "stderr",
     "output_type": "stream",
     "text": [
      "/Applications/anaconda3/lib/python3.6/site-packages/theano/tensor/subtensor.py:2197: FutureWarning: Using a non-tuple sequence for multidimensional indexing is deprecated; use `arr[tuple(seq)]` instead of `arr[seq]`. In the future this will be interpreted as an array index, `arr[np.array(seq)]`, which will result either in an error or a different result.\n",
      "  rval = inputs[0].__getitem__(inputs[1:])\n"
     ]
    }
   ],
   "source": [
    "k = 20\n",
    "m = 10\n",
    "Q = pm.Model()\n",
    "with Q: \n",
    "    \"\"\"\n",
    "    Global Number of Component \n",
    "    \"\"\"\n",
    "    alpha = pm.Gamma('alpha', \n",
    "                         1., 1.)\n",
    "\n",
    "    beta = pm.Beta('beta', 1., alpha, \n",
    "                      shape = k)\n",
    "\n",
    "    K_w = stick_break(beta)\n",
    "    \n",
    "    K = pm.Deterministic('K', \n",
    "                        K_w/K_w.sum(axis = 0,\n",
    "                                    keepdims = True))\n",
    "    \n",
    "    C = pm.Categorical('C', \n",
    "                       p = K,\n",
    "                       shape = (N,))\n",
    "    \n",
    "    \"\"\"\n",
    "    Number of Domains per component\n",
    "    \"\"\"\n",
    "    \n",
    "    phi = pm.Dirichlet('phi', \n",
    "                       np.linspace(1, 1e-10, m), \n",
    "                      shape = (k,m))\n",
    "    \n",
    "    D = pm.Categorical('D', \n",
    "                       p = phi[C], \n",
    "                       shape = N)"
   ]
  },
  {
   "cell_type": "code",
   "execution_count": 22,
   "metadata": {},
   "outputs": [],
   "source": [
    "with Q: \n",
    "    \"\"\"\n",
    "    Diffusion Kinetics\n",
    "    - Activation energy \n",
    "    - Frequency Factor\n",
    "    - With Hyperparameters\n",
    "    \"\"\"\n",
    "    ea_mean = pm.Uniform('ea_mean',\n",
    "                      lower = 80, \n",
    "                      upper = 500, \n",
    "                      shape = k, \n",
    "                        testval = 200)\n",
    "    \n",
    "    ea_sd = pm.HalfNormal('ea_sd',\n",
    "                      sd = ea_mean/10, \n",
    "                      shape = k)\n",
    "    \n",
    "    ea = pm.Normal('ea',\n",
    "                      mu = ea_mean, \n",
    "                      sd = ea_sd, \n",
    "                      shape = k)\n",
    "    \n",
    "    d0_mean = pm.Uniform('d0_mean',  \n",
    "                      lower = 0.0, \n",
    "                      upper = 10000,\n",
    "                      shape = k, \n",
    "                        testval = 200)\n",
    "    \n",
    "    d0_sd = pm.HalfNormal('d0_sd',  \n",
    "                      sd = d0_mean/10, \n",
    "                      shape = k)\n",
    "        \n",
    "        \n",
    "    d0 = pm.Normal('d0',  \n",
    "                      mu = d0_mean, \n",
    "                      sd = d0_sd,\n",
    "                      shape = k)\n",
    "\n",
    "    pm.Potential('diff_kin_con', \n",
    "                tt.switch(ea < 80, \n",
    "                         -np.inf, 0)+ \n",
    "                tt.switch(ea > 500, \n",
    "                         -np.inf, 0) + \n",
    "                tt.switch(d0 < 0, \n",
    "                         -np.inf, 0) + \n",
    "                tt.switch(d0 > 10000, \n",
    "                         -np.inf, 0))\n",
    "\n"
   ]
  },
  {
   "cell_type": "code",
   "execution_count": 23,
   "metadata": {},
   "outputs": [],
   "source": [
    "with Q: \n",
    "    \"\"\"\n",
    "    Grain size and/or domain size\n",
    "    \"\"\"\n",
    "    a = pm.Uniform('a', lower = 0.00001, \n",
    "                  upper = 0.0063/2, \n",
    "                  shape = (k,m), \n",
    "                   testval = np.linspace(0.003, 0.0001, m))"
   ]
  },
  {
   "cell_type": "code",
   "execution_count": 24,
   "metadata": {},
   "outputs": [],
   "source": [
    "with Q: \n",
    "    \"\"\"\n",
    "    Age Prior \n",
    "    with mean and standard deviation \n",
    "    hyperparameters\n",
    "    \n",
    "    \"\"\"\n",
    "    age_mean = pm.Uniform('age_mean',\n",
    "                          lower = 0.0,\n",
    "                          upper = 4600,\n",
    "                              shape = k, \n",
    "                         testval= data.mean())\n",
    "    \n",
    "    age_sd = pm.HalfNormal('age_sd', \n",
    "                          sd = age_mean/10,\n",
    "                          shape = k)\n",
    "    \n",
    "    age_model = pm.Normal('age_model', mu = age_mean, \n",
    "                         sd = age_sd, \n",
    "                         shape = k)\n",
    "    \n",
    "    pm.Potential('age_con', \n",
    "                tt.switch(age_model < 0, \n",
    "                         -np.inf, 0)+ \n",
    "                tt.switch(age_model > 4600, \n",
    "                         -np.inf, 0))"
   ]
  },
  {
   "cell_type": "code",
   "execution_count": 25,
   "metadata": {},
   "outputs": [
    {
     "name": "stderr",
     "output_type": "stream",
     "text": [
      "/Applications/anaconda3/lib/python3.6/site-packages/theano/tensor/subtensor.py:2197: FutureWarning: Using a non-tuple sequence for multidimensional indexing is deprecated; use `arr[tuple(seq)]` instead of `arr[seq]`. In the future this will be interpreted as an array index, `arr[np.array(seq)]`, which will result either in an error or a different result.\n",
      "  rval = inputs[0].__getitem__(inputs[1:])\n"
     ]
    }
   ],
   "source": [
    "with Q: \n",
    "    \"\"\"\n",
    "    Indexing all the parameters\n",
    "    \"\"\"\n",
    "    age_comp = pm.Deterministic('age_comp',\n",
    "                                age_model[C])\n",
    "    ea_comp = pm.Deterministic('ea_comp',\n",
    "                               ea[C])\n",
    "    d0_comp = pm.Deterministic('d0_comp',\n",
    "                               d0[C])\n",
    "    phi_comp = pm.Deterministic('phi_comp',\n",
    "                                K[C])\n",
    "    a_domain = pm.Deterministic(\"a_domain\",\n",
    "                                a[C,D])\n",
    "    phi_domain = pm.Deterministic('phi_domain',\n",
    "                                  phi[C,D])"
   ]
  },
  {
   "cell_type": "code",
   "execution_count": 26,
   "metadata": {},
   "outputs": [
    {
     "name": "stderr",
     "output_type": "stream",
     "text": [
      "/Applications/anaconda3/lib/python3.6/site-packages/theano/tensor/subtensor.py:2197: FutureWarning: Using a non-tuple sequence for multidimensional indexing is deprecated; use `arr[tuple(seq)]` instead of `arr[seq]`. In the future this will be interpreted as an array index, `arr[np.array(seq)]`, which will result either in an error or a different result.\n",
      "  rval = inputs[0].__getitem__(inputs[1:])\n"
     ]
    }
   ],
   "source": [
    "with Q: \n",
    "    \"\"\"\n",
    "    Age Model\n",
    "    \"\"\"\n",
    "    Z2 = K[C] * inc_mdd(ea[C], \n",
    "                d0[C], \n",
    "                a[C,D], \n",
    "                phi[C,D],\n",
    "                tempk[:,None],\n",
    "                time[:,None])\n",
    "    \n",
    "    Y_sum2 = Z2.sum(axis = 1)\n",
    "    \n",
    "    XX = (Z2 * age_model[C]).sum(axis = 1)\n",
    "\n",
    "    mu2 = (XX/Y_sum2)"
   ]
  },
  {
   "cell_type": "code",
   "execution_count": 27,
   "metadata": {},
   "outputs": [],
   "source": [
    "with Q: \n",
    "    \"\"\"\n",
    "    Incremental Release Trace\n",
    "    \"\"\"\n",
    "    inc_rel = pm.Deterministic('inc_rel', Y_sum2)"
   ]
  },
  {
   "cell_type": "code",
   "execution_count": 28,
   "metadata": {},
   "outputs": [
    {
     "name": "stderr",
     "output_type": "stream",
     "text": [
      "/Applications/anaconda3/lib/python3.6/site-packages/theano/tensor/subtensor.py:2197: FutureWarning: Using a non-tuple sequence for multidimensional indexing is deprecated; use `arr[tuple(seq)]` instead of `arr[seq]`. In the future this will be interpreted as an array index, `arr[np.array(seq)]`, which will result either in an error or a different result.\n",
      "  rval = inputs[0].__getitem__(inputs[1:])\n"
     ]
    }
   ],
   "source": [
    "with Q:\n",
    "    \"\"\"\n",
    "    Arrhenius Model \n",
    "    \"\"\"\n",
    "    R = 8.314e-3\n",
    "    y2 = K[C] * (((phi[C,D]/a[C,D])**2) \\\n",
    "                 * d0[C] * np.exp(-ea[C]/(R*tempk)))\n",
    "    \n",
    "    mu1 = tt.log(y2)"
   ]
  },
  {
   "cell_type": "code",
   "execution_count": 29,
   "metadata": {},
   "outputs": [
    {
     "data": {
      "text/plain": [
       "[<matplotlib.lines.Line2D at 0x13c538550>]"
      ]
     },
     "execution_count": 29,
     "metadata": {},
     "output_type": "execute_result"
    },
    {
     "data": {
      "image/png": "[encoded data removed]",
      "text/plain": [
       "<Figure size 432x288 with 1 Axes>"
      ]
     },
     "metadata": {},
     "output_type": "display_data"
    }
   ],
   "source": [
    "plt.plot(tplot[0:N], mu1.tag.test_value)\n",
    "plt.plot(tplot[0:N], np.log(da2[0:N]))"
   ]
  },
  {
   "cell_type": "code",
   "execution_count": 33,
   "metadata": {},
   "outputs": [],
   "source": [
    "\"\"\"\n",
    "Calculate Model weights\n",
    "\"\"\"\n",
    "def logp_w(data, model, err): \n",
    "    y =   - ((data - model)**2)/(2*err * err)\n",
    "    return y.sum()\n",
    "\n",
    "\n",
    "\n",
    "with Q: \n",
    "\n",
    "    y1 = logp_w(data[:N], \n",
    "               age_test_model[:N],\n",
    "                age_err[:N])\n",
    "    y2 = logp_w(arr_data[:N-1], \n",
    "                arr_test_model[:N-1],\n",
    "                arr_err_data[:N-1])\n",
    "\n",
    "    \n",
    "    weight = y1/y2\n"
   ]
  },
  {
   "cell_type": "code",
   "execution_count": 34,
   "metadata": {},
   "outputs": [
    {
     "data": {
      "text/plain": [
       "array(2.47499824e-07)"
      ]
     },
     "execution_count": 34,
     "metadata": {},
     "output_type": "execute_result"
    }
   ],
   "source": [
    "weight.tag.test_value"
   ]
  },
  {
   "cell_type": "code",
   "execution_count": 35,
   "metadata": {},
   "outputs": [],
   "source": [
    "with Q: \n",
    "    \"\"\"\n",
    "    Arrhenius Likelihood\n",
    "    \"\"\"\n",
    "    obs2 = weighted_Normal('obs2', mu1[:N],\n",
    "                     arr_err_data[:N], \n",
    "                     observed = arr_data[:N], \n",
    "                           weight = weight)"
   ]
  },
  {
   "cell_type": "code",
   "execution_count": 36,
   "metadata": {},
   "outputs": [],
   "source": [
    "with Q: \n",
    "    \"\"\"\n",
    "    Age Likelihood\n",
    "    \"\"\"\n",
    "    obs1 = weighted_Normal('obs1', mu = mu2, \n",
    "                           sd = age_data_err[:N], \n",
    "                           observed = age_data[:N], \n",
    "                          weight = 1)"
   ]
  },
  {
   "cell_type": "code",
   "execution_count": 37,
   "metadata": {},
   "outputs": [
    {
     "name": "stderr",
     "output_type": "stream",
     "text": [
      "/Applications/anaconda3/lib/python3.6/site-packages/theano/tensor/subtensor.py:2197: FutureWarning: Using a non-tuple sequence for multidimensional indexing is deprecated; use `arr[tuple(seq)]` instead of `arr[seq]`. In the future this will be interpreted as an array index, `arr[np.array(seq)]`, which will result either in an error or a different result.\n",
      "  rval = inputs[0].__getitem__(inputs[1:])\n",
      "/Applications/anaconda3/lib/python3.6/site-packages/theano/tensor/subtensor.py:2197: FutureWarning: Using a non-tuple sequence for multidimensional indexing is deprecated; use `arr[tuple(seq)]` instead of `arr[seq]`. In the future this will be interpreted as an array index, `arr[np.array(seq)]`, which will result either in an error or a different result.\n",
      "  rval = inputs[0].__getitem__(inputs[1:])\n",
      "/Applications/anaconda3/lib/python3.6/site-packages/theano/tensor/subtensor.py:2197: FutureWarning: Using a non-tuple sequence for multidimensional indexing is deprecated; use `arr[tuple(seq)]` instead of `arr[seq]`. In the future this will be interpreted as an array index, `arr[np.array(seq)]`, which will result either in an error or a different result.\n",
      "  rval = inputs[0].__getitem__(inputs[1:])\n"
     ]
    },
    {
     "data": {
      "text/plain": [
       "alpha_log__                -1.00\n",
       "beta_logodds__            -27.73\n",
       "C                         -18.02\n",
       "phi_stickbreaking__      -422.70\n",
       "D                         -41.85\n",
       "ea_mean_interval__        -31.78\n",
       "ea_sd_log__               -15.40\n",
       "ea                        -73.78\n",
       "d0_mean_interval__        -78.64\n",
       "d0_sd_log__               -15.40\n",
       "d0                        -73.78\n",
       "a_interval__             -401.06\n",
       "age_mean_interval__      -165.50\n",
       "age_sd_log__              -15.40\n",
       "age_model                  29.00\n",
       "obs2                  -208720.33\n",
       "obs1                       -1.02\n",
       "Name: Log-probability of test_point, dtype: float64"
      ]
     },
     "execution_count": 37,
     "metadata": {},
     "output_type": "execute_result"
    }
   ],
   "source": [
    "Q.check_test_point()"
   ]
  },
  {
   "cell_type": "code",
   "execution_count": null,
   "metadata": {},
   "outputs": [
    {
     "name": "stderr",
     "output_type": "stream",
     "text": [
      "Multiprocess sampling (2 chains in 2 jobs)\n",
      "CompoundStep\n",
      ">CategoricalGibbsMetropolis: [D, C]\n",
      ">CompoundStep\n",
      ">>Metropolis: [alpha]\n",
      ">>Metropolis: [beta]\n",
      ">>Metropolis: [phi]\n",
      ">>Metropolis: [a]\n",
      ">>Metropolis: [age_model]\n",
      ">>Metropolis: [age_sd]\n",
      ">>Metropolis: [age_mean]\n",
      ">>Metropolis: [ea_sd]\n",
      ">>Metropolis: [ea_mean]\n",
      ">>Metropolis: [ea]\n",
      ">>Metropolis: [d0_mean]\n",
      ">>Metropolis: [d0_sd]\n",
      ">>Metropolis: [d0]\n",
      "/Applications/anaconda3/lib/python3.6/site-packages/theano/tensor/subtensor.py:2197: FutureWarning: Using a non-tuple sequence for multidimensional indexing is deprecated; use `arr[tuple(seq)]` instead of `arr[seq]`. In the future this will be interpreted as an array index, `arr[np.array(seq)]`, which will result either in an error or a different result.\n",
      "  rval = inputs[0].__getitem__(inputs[1:])\n",
      "Sampling 2 chains:  24%|██▎       | 308147/1300000 [4:21:41<18:51:03, 14.62draws/s]"
     ]
    }
   ],
   "source": [
    "SAMPLES = 50000\n",
    "BURN = 600000\n",
    "SEED = np.random.seed(123)\n",
    "\n",
    "with Q:\n",
    "    step1 = pm.CategoricalGibbsMetropolis([C,D]) \n",
    "    \n",
    "    step2 = pm.Metropolis([d0, d0_sd, d0_mean,\n",
    "                           ea, ea_mean, ea_sd,\n",
    "                           age_mean,\n",
    "                           age_sd, \n",
    "                          age_model, \n",
    "                           a, phi,\n",
    "                          beta, \n",
    "                          alpha], \n",
    "                         scaling = 100)\n",
    "\n",
    "\n",
    "    trace = pm.sample(SAMPLES, tune = BURN, \n",
    "                     step = [step1,\n",
    "                             step2],\n",
    "                     random_seed = SEED)"
   ]
  },
  {
   "cell_type": "code",
   "execution_count": null,
   "metadata": {},
   "outputs": [],
   "source": [
    "fig,ax = plt.subplots(1,2, figsize = (9, 4))\n",
    "inc_model = trace['inc_rel'].mean(axis = 0)\n",
    "frel_model = cumrel(inc_model)\n",
    "ar39 = df['ar39'].values\n",
    "ax[0].plot(temp[:N],\n",
    "         ar39[:N]/ar39[:N].max(), \n",
    "          label = 'Data')\n",
    "ax[0].plot(temp[:N], \n",
    "         trace['inc_rel'].mean(axis = 0)/trace['inc_rel'].mean(axis = 0).max(), \n",
    "          label = 'Model')\n",
    "\n",
    "ax[0].set_ylabel('Normalised incremental\\nrelease $^{39}$Ar')\n",
    "ax[0].set_xlabel('Temperature ($^{o}$C)')\n",
    "\n",
    "\n",
    "ax[1].plot(temp[:N], frel_model, lw = 1)\n",
    "\n",
    "ax[1].plot(temp[:N], x_plot[:N])\n",
    "ax[1].set_xlim(680, 1100)\n",
    "\n",
    "ax[1].set_ylabel('Normalised cumulative\\nrelease $^{39}$Ar')\n",
    "ax[1].set_xlabel('Temperature ($^{o}$C)')\n",
    "\n",
    "ax[0].legend()\n",
    "\n",
    "s1 = 'A'\n",
    "s2 = 'B'\n",
    "\n",
    "ax[0].text(700, 0.965, s1, fontsize = 16, \n",
    "          fontweight = 'bold')\n",
    "\n",
    "ax[1].text(700, 0.95, s2, fontsize = 16, \n",
    "          fontweight = 'bold')\n",
    "\n",
    "plt.tight_layout()"
   ]
  },
  {
   "cell_type": "code",
   "execution_count": null,
   "metadata": {},
   "outputs": [],
   "source": [
    "n_comp = np.apply_along_axis(lambda x: np.unique(x).size, \n",
    "                            1, trace['C'][-SAMPLES::10])\n",
    "\n",
    "n_comp =  n_comp +1\n",
    "ncmp = n_comp.mean(axis = 0).astype(int)\n",
    "plt.figure(figsize = (ncmp*3, ncmp*0.75))\n",
    "for i in range(ncmp):\n",
    "    plt.subplot(1,ncmp,i+1)\n",
    "    plt.plot(trace['age_model'][:,i],\n",
    "        color = 'steelblue')\n",
    "\n",
    "    plt.xlabel('iters')\n",
    "    plt.ylabel('Age (Ma)')\n",
    "\n",
    "plt.tight_layout()"
   ]
  },
  {
   "cell_type": "code",
   "execution_count": null,
   "metadata": {},
   "outputs": [],
   "source": [
    "SAMPLES = 5000"
   ]
  },
  {
   "cell_type": "code",
   "execution_count": 103,
   "metadata": {},
   "outputs": [
    {
     "name": "stderr",
     "output_type": "stream",
     "text": [
      "/Applications/anaconda3/lib/python3.6/site-packages/matplotlib/axes/_axes.py:6521: MatplotlibDeprecationWarning: \n",
      "The 'normed' kwarg was deprecated in Matplotlib 2.1 and will be removed in 3.1. Use 'density' instead.\n",
      "  alternative=\"'density'\", removal=\"3.1\")\n"
     ]
    },
    {
     "data": {
      "image/png": "[encoded data removed]",
      "text/plain": [
       "<Figure size 648x216 with 3 Axes>"
      ]
     },
     "metadata": {},
     "output_type": "display_data"
    }
   ],
   "source": [
    "font = {'family' : 'Arial',\n",
    "        'weight' : 'normal',\n",
    "        'size'   : 15}\n",
    "\n",
    "plt.rc('font', **font)\n",
    "\n",
    "fig, ax = plt.subplots(1, 3, figsize = (9, 3))\n",
    "n_comp = np.apply_along_axis(lambda x: np.unique(x).size, \n",
    "                            1, trace['C'][-SAMPLES::10])\n",
    "\n",
    "n_comp =  n_comp +1\n",
    "ncmp = n_comp.mean(axis = 0).astype(int)\n",
    "bins = np.arange(n_comp.min() -1, n_comp.max() +1)\n",
    "\n",
    "ax[0].hist(n_comp,\n",
    "        bins=bins,\n",
    "        normed=True,\n",
    "        lw= 2,\n",
    "        alpha=0.75, \n",
    "       edgecolor = 'k', \n",
    "        facecolor = 'skyblue');\n",
    "\n",
    "ax[0].set_xticks(bins + 0.5);\n",
    "ax[0].set_xticklabels(bins);\n",
    "ax[0].set_xlim(bins.min()-1,bins.max() + 1);\n",
    "ax[0].set_xlabel('# of components');\n",
    "\n",
    "\n",
    "\n",
    "plot_w = np.arange(k) + 1\n",
    "\n",
    "ax[1].bar(plot_w - 0, trace['K'][-SAMPLES::10].mean(axis=0),\n",
    "          width=1., lw=2, \n",
    "      edgecolor = 'k', alpha = 0.75, \n",
    "         facecolor = 'skyblue');\n",
    "\n",
    "ax[1].set_xlabel('Component');\n",
    "\n",
    "ax[1].set_ylabel('Mixture weight');\n",
    "\n",
    "ax[1].locator_params(axis='x', nbins=12)\n",
    "\n",
    "ax[2].errorbar(np.linspace(1, ncmp,ncmp),\n",
    "             trace['age_model'][-SAMPLES::10].mean(axis = 0)[:ncmp].round(2), \n",
    "             yerr = 2*trace['age_model'][-SAMPLES::10].std(axis = 0)[:ncmp].round(2), \n",
    "             fmt ='o', \n",
    "             markersize = 10, \n",
    "             markeredgecolor = 'k', \n",
    "             markerfacecolor = 'skyblue')\n",
    "\n",
    "ax[2].set_xlabel('Component');\n",
    "\n",
    "ax[2].set_ylabel('Age (Ma)');\n",
    "ax[0].set_ylabel('Posterior Probability')\n",
    "\n",
    "ax[2].locator_params(axis='x', nbins=ncmp)\n",
    "ax[1].locator_params(axis='x', nbins=ncmp)\n",
    "#ax[1].set_xlim(0, ncmp+0.9)\n",
    "#ax[2].set_xlim(0, ncmp+0.9)\n",
    "#ax[2].set_ylim(1.15, 1.25)\n",
    "\n",
    "plt.tight_layout()\n",
    "plt.ticklabel_format(useOffset=False)\n",
    "#plt.savefig('/Users/jackcarter/Desktop/hb_acs_test_model_nmp.pdf')"
   ]
  },
  {
   "cell_type": "code",
   "execution_count": 104,
   "metadata": {},
   "outputs": [
    {
     "name": "stderr",
     "output_type": "stream",
     "text": [
      "/Applications/anaconda3/lib/python3.6/site-packages/matplotlib/axes/_axes.py:6521: MatplotlibDeprecationWarning: \n",
      "The 'normed' kwarg was deprecated in Matplotlib 2.1 and will be removed in 3.1. Use 'density' instead.\n",
      "  alternative=\"'density'\", removal=\"3.1\")\n"
     ]
    },
    {
     "data": {
      "image/png": "[encoded data removed]",
      "text/plain": [
       "<Figure size 648x216 with 3 Axes>"
      ]
     },
     "metadata": {},
     "output_type": "display_data"
    }
   ],
   "source": [
    "font = {'family' : 'Arial',\n",
    "        'weight' : 'normal',\n",
    "        'size'   : 15}\n",
    "\n",
    "plt.rc('font', **font)\n",
    "\n",
    "fig, ax = plt.subplots(1, 3, figsize = (9, 3))\n",
    "n_comp = np.apply_along_axis(lambda x: np.unique(x).size, \n",
    "                            1, trace['C'][-SAMPLES::10])\n",
    "\n",
    "n_comp =  n_comp +1\n",
    "ncmp = n_comp.mean(axis = 0).astype(int)\n",
    "bins = np.arange(n_comp.min() -1, n_comp.max() +1)\n",
    "\n",
    "ax[0].hist(n_comp,\n",
    "        bins=bins,\n",
    "        normed=True,\n",
    "        lw= 2,\n",
    "        alpha=0.75, \n",
    "       edgecolor = 'k', \n",
    "        facecolor = 'skyblue');\n",
    "\n",
    "ax[0].set_xticks(bins + 0.5);\n",
    "ax[0].set_xticklabels(bins);\n",
    "ax[0].set_xlim(bins.min()-1,bins.max() + 1);\n",
    "ax[0].set_xlabel('# of components');\n",
    "\n",
    "\n",
    "\n",
    "plot_w = np.arange(ncmp) + 1\n",
    "\n",
    "ax[1].bar(plot_w - 0, trace['K'][-SAMPLES::10].mean(axis=0)[:ncmp],\n",
    "          width=1., lw=2, \n",
    "      edgecolor = 'k', alpha = 0.75, \n",
    "         facecolor = 'skyblue');\n",
    "\n",
    "ax[1].set_xlabel('Component');\n",
    "\n",
    "ax[1].set_ylabel('Mixture weight');\n",
    "\n",
    "ax[1].locator_params(axis='x', nbins=12)\n",
    "\n",
    "ax[2].errorbar(np.linspace(1, ncmp,ncmp),\n",
    "             trace['age_model'][-SAMPLES::10].mean(axis = 0)[:ncmp].round(2), \n",
    "             yerr = 2*trace['age_model'][-SAMPLES::10].std(axis = 0)[:ncmp].round(2), \n",
    "             fmt ='o', \n",
    "             markersize = 10, \n",
    "             markeredgecolor = 'k', \n",
    "             markerfacecolor = 'skyblue')\n",
    "\n",
    "ax[2].set_xlabel('Component');\n",
    "\n",
    "ax[2].set_ylabel('Age (Ma)');\n",
    "ax[0].set_ylabel('Posterior Probability')\n",
    "\n",
    "ax[2].locator_params(axis='x', nbins=ncmp)\n",
    "ax[1].locator_params(axis='x', nbins=ncmp)\n",
    "ax[1].set_xlim(0, ncmp+0.9)\n",
    "ax[2].set_xlim(0, ncmp+0.9)\n",
    "#ax[2].set_ylim(1.15, 1.25)\n",
    "\n",
    "plt.tight_layout()\n",
    "plt.ticklabel_format(useOffset=False)\n",
    "#plt.savefig('/Users/jackcarter/Desktop/hb_acs_test_model_nmp.pdf')"
   ]
  },
  {
   "cell_type": "code",
   "execution_count": 105,
   "metadata": {},
   "outputs": [
    {
     "name": "stdout",
     "output_type": "stream",
     "text": [
      "[3.5526 3.1988 2.4359 1.2053 0.138  0.7025 1.9537 0.117  2.196  1.5676\n",
      " 0.692  0.8187 1.8274 0.9271 1.3083 0.3556 1.9727 3.1819 1.3394 0.6916]\n"
     ]
    }
   ],
   "source": [
    "np.set_printoptions(suppress=True)\n",
    "print(trace['age_model'][-SAMPLES::10].mean(axis = 0).round(4))\n"
   ]
  },
  {
   "cell_type": "code",
   "execution_count": 106,
   "metadata": {},
   "outputs": [
    {
     "data": {
      "text/plain": [
       "array([0.0927, 0.0619, 0.156 , 0.0269, 0.0172, 0.0352, 0.0684, 0.0121,\n",
       "       0.0461, 0.0687, 0.0555, 0.0567, 0.1945, 0.0441, 0.1381, 0.0361,\n",
       "       0.0831, 0.0472, 0.1693, 0.0445])"
      ]
     },
     "execution_count": 106,
     "metadata": {},
     "output_type": "execute_result"
    }
   ],
   "source": [
    "trace['age_model'][-SAMPLES::10].std(axis = 0).round(4)"
   ]
  },
  {
   "cell_type": "code",
   "execution_count": 97,
   "metadata": {},
   "outputs": [
    {
     "name": "stderr",
     "output_type": "stream",
     "text": [
      "/Applications/anaconda3/lib/python3.6/site-packages/ipykernel_launcher.py:4: DeprecationWarning: sample_ppc() is deprecated.  Please use sample_posterior_predictive()\n",
      "  after removing the cwd from sys.path.\n",
      "  0%|          | 0/1000 [00:00<?, ?it/s]/Applications/anaconda3/lib/python3.6/site-packages/theano/tensor/subtensor.py:2197: FutureWarning: Using a non-tuple sequence for multidimensional indexing is deprecated; use `arr[tuple(seq)]` instead of `arr[seq]`. In the future this will be interpreted as an array index, `arr[np.array(seq)]`, which will result either in an error or a different result.\n",
      "  rval = inputs[0].__getitem__(inputs[1:])\n",
      "100%|██████████| 1000/1000 [01:40<00:00,  9.92it/s]\n"
     ]
    }
   ],
   "source": [
    "from scipy import stats\n",
    "with Q: \n",
    "    ppc = pm.sample_ppc(trace,\n",
    "                        1000)"
   ]
  },
  {
   "cell_type": "code",
   "execution_count": 73,
   "metadata": {},
   "outputs": [],
   "source": [
    "# Mean Predictive Models\n",
    "Z2 = ppc['obs1'].mean(axis = 0)\n",
    "low2, high2 = np.percentile(ppc['obs1'], \n",
    "                            [2.5, 97.5], \n",
    "                            axis = 0)\n",
    "\n",
    "# Frel_model\n",
    "inc_model = trace['inc_rel'].mean(axis = 0)\n",
    "frel_model = cumrel(inc_model)"
   ]
  },
  {
   "cell_type": "code",
   "execution_count": 74,
   "metadata": {},
   "outputs": [],
   "source": [
    "sns.set_style('ticks')\n",
    "font = {'family' : 'Arial',\n",
    "        'weight' : 'normal',\n",
    "        'size'   : 16}\n",
    "\n",
    "plt.rc('font', **font)\n",
    "\n",
    "# Plotting parameters \n",
    "ar39 = cumrel(ar39)\n",
    "\n",
    "low2_plot = np.insert(low2, 0, low2[0])\n",
    "high2_plot = np.insert(high2, 0, high2[0])\n",
    "z2_plot = np.insert(Z2, 0, Z2[0])\n",
    "frel_model_plot = np.insert(frel_model, 0, 0)\n",
    "\n",
    "data2_plot = np.insert(ar39, 0, 0)\n",
    "data_plot = np.insert(data, 0, data[0])\n",
    "age_err_plot = np.insert(age_err, 0, age_err[0])\n"
   ]
  },
  {
   "cell_type": "code",
   "execution_count": 75,
   "metadata": {},
   "outputs": [],
   "source": [
    "tplot = 10000/tempk\n",
    "\n",
    "# Mean Predictive Models\n",
    "Z1 = ppc['obs2'].mean(axis = 0)\n",
    "low1, high1 = np.percentile(ppc['obs2'], [50 - 34, 50 + 34], axis = 0)"
   ]
  },
  {
   "cell_type": "code",
   "execution_count": 76,
   "metadata": {},
   "outputs": [],
   "source": [
    "age_data = df['Ageacs'].values"
   ]
  },
  {
   "cell_type": "code",
   "execution_count": 77,
   "metadata": {},
   "outputs": [
    {
     "name": "stderr",
     "output_type": "stream",
     "text": [
      "/Applications/anaconda3/lib/python3.6/site-packages/matplotlib/figure.py:2369: UserWarning: This figure includes Axes that are not compatible with tight_layout, so results might be incorrect.\n",
      "  warnings.warn(\"This figure includes Axes that are not compatible \"\n"
     ]
    },
    {
     "data": {
      "image/png": "[encoded data removed]",
      "text/plain": [
       "<Figure size 648x360 with 5 Axes>"
      ]
     },
     "metadata": {},
     "output_type": "display_data"
    }
   ],
   "source": [
    "sns.set_style('ticks')\n",
    "\n",
    "font= {\"family\": \"Arial\", \n",
    "      \"weight\": \"normal\",\n",
    "      \"size\":15}\n",
    "\n",
    "plt.rc(\"font\", **font)\n",
    "\n",
    "\n",
    "\n",
    "\n",
    "fig, ax = plt.subplots(1,2, figsize = (9, 5))\n",
    "\n",
    "ax[0].fill_between(frel_model_plot, low2_plot, \n",
    "                 high2_plot, \n",
    "                color = 'r', \n",
    "                label = 'Model\\n95%Credible\\nInterval', \n",
    "                  step = 'pre', \n",
    "                  interpolate = True,  \n",
    "                  lw = 1,\n",
    "                  alpha = 0.7)\n",
    "\n",
    "\n",
    "ax[0].fill_between(x_plot, \n",
    "                  age - age_err, \n",
    "                  age + age_err, \n",
    "                  color = 'steelblue', \n",
    "                  step = 'pre',\n",
    "                  lw = 0.75,\n",
    "                  label = 'Data',\n",
    "                  alpha = 0.7)\n",
    "\n",
    "ax[0].set_xlabel('Normalised Cumulative Release $^{39}$Ar')\n",
    "ax[0].set_ylabel('Age (Ma)')\n",
    "\n",
    "\n",
    "\n",
    "\n",
    "ax[1].plot(tplot[:N], np.log(da2[:N]), \n",
    "          'o', markerfacecolor = 'steelblue', \n",
    "          markeredgecolor = 'k', \n",
    "          markersize = 9, label = 'Data')\n",
    "\n",
    "\n",
    "ax[1].plot(tplot[:len(Z1)],Z1, 'or',\n",
    "             markerfacecolor = 'None',\n",
    "            alpha = 1, \n",
    "             markeredgecolor = 'r', markeredgewidth = 2, \n",
    "            markersize = 9, \n",
    "            label = 'Model')\n",
    "\n",
    "\n",
    "\n",
    "#### Temp #####\n",
    "\n",
    "ax2 = ax[1].twiny()\n",
    "\n",
    "Tdc = np.array([500,  650, 850,  1500])\n",
    "Tp = 10e3/(Tdc + 273.15)\n",
    "labels = list(['500', '650', '850',   \n",
    "              '1500'])\n",
    "ax2.plot(tplot[:N], np.log(da2[:N]), alpha = 0)\n",
    "ax2.set_xlabel('Temperature ($^{o}$C)')\n",
    "ax[1].set_xlim(Tp.min() - 0.1, Tp.max()+ 0.3)\n",
    "ax2.set_xlim(Tp.min() -0.1, Tp.max()+ 0.1)\n",
    "\n",
    "ax2.set_xlabel('Temperature ($^{o}$C)')\n",
    "ax2.set_xticks(Tp)\n",
    "ax2.set_xticklabels(labels)\n",
    "\n",
    "\n",
    "ax3 =plt.axes([0.67,0.365,0.13,0.165])\n",
    "\n",
    "ax3.plot(tempk[:len(Z1)] - 273.15, \n",
    "         Z1[:N] - np.log(da2[:len(Z1)]),\n",
    "         'ok', \n",
    "        markeredgecolor = 'k', \n",
    "        markerfacecolor = 'lightgrey')\n",
    "qqq = Z1 - np.log(da2[:len(Z1)])\n",
    "ax3.axhline(0, lw = 1, ls = '--', \n",
    "           color = 'r')\n",
    "ax3.set_ylabel('Model - Arr Data (ln(D/$a^{2}$))', fontsize = 8)\n",
    "ax3.set_xlabel('Temperature ($^{o}$C)', fontsize = 8)\n",
    "ax3.set_ylim(qqq.min() - 2, qqq.max() + 2)\n",
    "ax3.tick_params(labelsize = 5)\n",
    "ax3.locator_params(axis='x', nbins=6)\n",
    "ax3.set_xlim(400, 1500)\n",
    "\n",
    "ax[1].set_xlabel('10$^{4}$/T (K$^{-1}$)')\n",
    "ax[1].set_ylabel('ln(D/a$^{2}$)')\n",
    "ax[1].locator_params(axis='y', nbins=6)\n",
    "ax[1].locator_params(axis='x', nbins=6)\n",
    "\n",
    "\n",
    "ax4 =plt.axes([0.3,0.6,0.13,0.165])\n",
    "\n",
    "ax4.plot(np.linspace(1, len(Z2), len(Z2)).astype(int), Z2 - age_data[:len(Z2)], 'ok', \n",
    "        markeredgecolor = 'k', \n",
    "        markerfacecolor = 'lightgrey')\n",
    "qqq2 = Z2 - age[:N]\n",
    "ax4.set_ylim(qqq2.min() - 50, qqq2.max() + 50)\n",
    "\n",
    "ax4.axhline(0, lw = 1, ls = '--', \n",
    "           color = 'r')\n",
    "ax4.set_ylabel('Model - Age data (Ma)', fontsize = 8)\n",
    "ax4.set_xlabel('Step', fontsize = 8)\n",
    "ax4.tick_params(labelsize = 5)\n",
    "ax4.locator_params(axis='x', nbins=10)\n",
    "ax4.set_xlim(0, N+5)\n",
    "ax[0].set_ylim(-2, 7)\n",
    "ax[0].set_xlim(0, 1)\n",
    "ax[1].set_xlim(6, 11)\n",
    "ax[0].legend(loc = 4, fontsize = 10)\n",
    "ax[1].legend(loc = 3, fontsize = 10)\n",
    "ax[1].set_ylim(-20, -6.5)\n",
    "\n",
    "plt.tight_layout()\n",
    "#plt.savefig('/Users/jackcarter/Desktop/aldercreek_model.pdf')"
   ]
  },
  {
   "cell_type": "code",
   "execution_count": 78,
   "metadata": {},
   "outputs": [
    {
     "name": "stderr",
     "output_type": "stream",
     "text": [
      "/Applications/anaconda3/lib/python3.6/site-packages/matplotlib/tight_layout.py:199: UserWarning: Tight layout not applied. tight_layout cannot make axes width small enough to accommodate all axes decorations\n",
      "  warnings.warn('Tight layout not applied. '\n"
     ]
    },
    {
     "data": {
      "image/png": "[encoded data removed]",
      "text/plain": [
       "<Figure size 360x288 with 14 Axes>"
      ]
     },
     "metadata": {},
     "output_type": "display_data"
    }
   ],
   "source": [
    "\"\"\"\n",
    "Plot Natural log of D0 vs. EA\n",
    "Looking for highly \n",
    "correlated sampling \n",
    "higher Ea\n",
    "higher D0\n",
    "\"\"\"\n",
    "\n",
    "\n",
    "plt.figure(figsize = (5, 4))\n",
    "for i in range(ncmp): \n",
    "    plt.subplot(1, ncmp, i+1)\n",
    "    plt.hist2d(trace['ea'][:,i][-SAMPLES:],\n",
    "                np.log(trace['d0'][:,i][-SAMPLES:]), \n",
    "               cmap = 'jet')\n",
    "\n",
    "\n",
    "    plt.ylabel('ln(D$_{0}$)')\n",
    "    plt.xlabel('E$_{a}$ (kJ/mol)')\n",
    "    plt.ticklabel_format(useOffset=False)\n",
    "    plt.colorbar(label = 'Sampling density')\n",
    "\n",
    "    plt.tight_layout()\n",
    "plt.locator_params(axis='x', nbins=6)\n",
    "\n",
    "#plt.savefig('/Users/jackcarter/Desktop/alder_creek_diff')"
   ]
  },
  {
   "cell_type": "code",
   "execution_count": 79,
   "metadata": {},
   "outputs": [
    {
     "data": {
      "text/plain": [
       "(119.65758182252347, 259.0788588409711)"
      ]
     },
     "execution_count": 79,
     "metadata": {},
     "output_type": "execute_result"
    }
   ],
   "source": [
    "low_d0, high_d0 = np.percentile(trace['d0'][-SAMPLES:][0], \n",
    "                            [16,84 ], \n",
    "                            axis = 0)\n",
    "low_d0, high_d0"
   ]
  },
  {
   "cell_type": "code",
   "execution_count": 80,
   "metadata": {},
   "outputs": [
    {
     "name": "stderr",
     "output_type": "stream",
     "text": [
      "/Applications/anaconda3/lib/python3.6/site-packages/theano/tensor/subtensor.py:2197: FutureWarning: Using a non-tuple sequence for multidimensional indexing is deprecated; use `arr[tuple(seq)]` instead of `arr[seq]`. In the future this will be interpreted as an array index, `arr[np.array(seq)]`, which will result either in an error or a different result.\n",
      "  rval = inputs[0].__getitem__(inputs[1:])\n"
     ]
    }
   ],
   "source": [
    "logp_model = Q.logp\n",
    "# Every Hundreth accepted sample\n",
    "logp = [logp_model(i) for i in trace[-SAMPLES:]]\n",
    "logp_x = np.array([logp])\n",
    "logp_x = logp_x.reshape(SAMPLES)"
   ]
  },
  {
   "cell_type": "code",
   "execution_count": 81,
   "metadata": {},
   "outputs": [
    {
     "data": {
      "image/png": "[encoded data removed]",
      "text/plain": [
       "<Figure size 504x252 with 2 Axes>"
      ]
     },
     "metadata": {},
     "output_type": "display_data"
    }
   ],
   "source": [
    "sns.set_style('ticks')\n",
    "\n",
    "font= {\"family\": \"Arial\", \n",
    "      \"weight\": \"normal\",\n",
    "      \"size\":15}\n",
    "\n",
    "plt.rc(\"font\", **font)\n",
    "\n",
    "fig, ax = plt.subplots(1,2, figsize = (7,3.5))\n",
    "\n",
    "z1 = ax[0].hist2d(trace['age_model'][-SAMPLES:][:,0],\n",
    "                logp_x[-SAMPLES:].round(2), \n",
    "               cmap = 'jet')\n",
    "\n",
    "z2 = ax[1].hist2d(trace['ea'][:,0][-SAMPLES:],\n",
    "                np.log(trace['d0'][:,0][-SAMPLES:]), \n",
    "               cmap = 'jet')\n",
    "\n",
    "\n",
    "ax[1].set_ylabel('ln(D$_{0}$)')\n",
    "ax[1].set_xlabel('E$_{a}$ (kJ/mol)')\n",
    "ax[1].ticklabel_format(useOffset=False)\n",
    "#ax[1].set_xlim(220, 280)\n",
    "#ax[1].set_ylim(6.3,6.63)\n",
    "ax[0].set_ylabel('Log probability')\n",
    "ax[0].set_xlabel('Age (Ma)')\n",
    "\n",
    "plt.tight_layout()\n",
    "#plt.savefig('/Users/jackcarter/Desktop/aldercreek_out.pdf')"
   ]
  },
  {
   "cell_type": "code",
   "execution_count": null,
   "metadata": {},
   "outputs": [],
   "source": []
  }
 ],
 "metadata": {
  "kernelspec": {
   "display_name": "Python 3",
   "language": "python",
   "name": "python3"
  },
  "language_info": {
   "codemirror_mode": {
    "name": "ipython",
    "version": 3
   },
   "file_extension": ".py",
   "mimetype": "text/x-python",
   "name": "python",
   "nbconvert_exporter": "python",
   "pygments_lexer": "ipython3",
   "version": "3.6.6"
  }
 },
 "nbformat": 4,
 "nbformat_minor": 2
}
